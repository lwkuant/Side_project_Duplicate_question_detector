{
 "cells": [
  {
   "cell_type": "markdown",
   "metadata": {},
   "source": [
    "## Introduction"
   ]
  },
  {
   "cell_type": "code",
   "execution_count": null,
   "metadata": {
    "collapsed": true
   },
   "outputs": [],
   "source": []
  },
  {
   "cell_type": "code",
   "execution_count": null,
   "metadata": {
    "collapsed": true
   },
   "outputs": [],
   "source": []
  },
  {
   "cell_type": "code",
   "execution_count": null,
   "metadata": {
    "collapsed": true
   },
   "outputs": [],
   "source": []
  },
  {
   "cell_type": "markdown",
   "metadata": {},
   "source": [
    "## Setup"
   ]
  },
  {
   "cell_type": "code",
   "execution_count": 6,
   "metadata": {
    "collapsed": true
   },
   "outputs": [],
   "source": [
    "### Load the required packages\n",
    "\n",
    "import pandas as pd \n",
    "import numpy as np\n",
    "import scipy as sp\n",
    "import matplotlib.pyplot as plt\n",
    "%matplotlib inline \n",
    "import seaborn as sns"
   ]
  },
  {
   "cell_type": "code",
   "execution_count": 7,
   "metadata": {
    "collapsed": true
   },
   "outputs": [],
   "source": [
    "### Load the dataset \n",
    "df = pd.read_csv('D:/Dataset/Side_project_Duplicate_question_detector/questions.csv', encoding='utf-8')"
   ]
  },
  {
   "cell_type": "markdown",
   "metadata": {},
   "source": [
    "#### Overview of the dataset"
   ]
  },
  {
   "cell_type": "code",
   "execution_count": 8,
   "metadata": {
    "collapsed": false
   },
   "outputs": [
    {
     "name": "stdout",
     "output_type": "stream",
     "text": [
      "Shape:\n",
      "(404351, 6)\n",
      "\n",
      "Some examples:\n",
      "   id  qid1  qid2                                          question1  \\\n",
      "0   0     1     2  What is the step by step guide to invest in sh...   \n",
      "1   1     3     4  What is the story of Kohinoor (Koh-i-Noor) Dia...   \n",
      "2   2     5     6  How can I increase the speed of my internet co...   \n",
      "3   3     7     8  Why am I mentally very lonely? How can I solve...   \n",
      "4   4     9    10  Which one dissolve in water quikly sugar, salt...   \n",
      "\n",
      "                                           question2  is_duplicate  \n",
      "0  What is the step by step guide to invest in sh...             0  \n",
      "1  What would happen if the Indian government sto...             0  \n",
      "2  How can Internet speed be increased by hacking...             0  \n",
      "3  Find the remainder when [math]23^{24}[/math] i...             0  \n",
      "4            Which fish would survive in salt water?             0  \n",
      "\n",
      "Information:\n",
      "<class 'pandas.core.frame.DataFrame'>\n",
      "RangeIndex: 404351 entries, 0 to 404350\n",
      "Data columns (total 6 columns):\n",
      "id              404351 non-null int64\n",
      "qid1            404351 non-null int64\n",
      "qid2            404351 non-null int64\n",
      "question1       404351 non-null object\n",
      "question2       404349 non-null object\n",
      "is_duplicate    404351 non-null int64\n",
      "dtypes: int64(4), object(2)\n",
      "memory usage: 18.5+ MB\n",
      "None\n",
      "\n",
      "Any NAs?\n",
      "id              0\n",
      "qid1            0\n",
      "qid2            0\n",
      "question1       0\n",
      "question2       2\n",
      "is_duplicate    0\n",
      "dtype: int64\n"
     ]
    }
   ],
   "source": [
    "print('Shape:')\n",
    "print(df.shape)\n",
    "\n",
    "print('\\nSome examples:')\n",
    "print(df.head())\n",
    "\n",
    "print('\\nInformation:')\n",
    "print(df.info())\n",
    "\n",
    "print('\\nAny NAs?')\n",
    "print(np.sum(df.isnull()))"
   ]
  },
  {
   "cell_type": "markdown",
   "metadata": {},
   "source": [
    "There are only two NAs in this dataset, we can consider removing them since they account for very little part in this dataset."
   ]
  },
  {
   "cell_type": "code",
   "execution_count": 9,
   "metadata": {
    "collapsed": false
   },
   "outputs": [
    {
     "name": "stdout",
     "output_type": "stream",
     "text": [
      "Distribution:\n",
      "0    255045\n",
      "1    149306\n",
      "Name: is_duplicate, dtype: int64\n",
      "\n",
      "Distribution in percentage:\n",
      "0    63.07515\n",
      "1    36.92485\n",
      "Name: is_duplicate, dtype: float64\n"
     ]
    }
   ],
   "source": [
    "### Target variable \n",
    "\n",
    "print('Distribution:')\n",
    "print(df['is_duplicate'].value_counts())\n",
    "\n",
    "print('\\nDistribution in percentage:')\n",
    "print(df['is_duplicate'].value_counts().apply(lambda x: x/len(df)*100))"
   ]
  },
  {
   "cell_type": "markdown",
   "metadata": {},
   "source": [
    "Since the distribution of the target variable's classes are not so unbalanced, we can just move on"
   ]
  },
  {
   "cell_type": "markdown",
   "metadata": {},
   "source": [
    "#### Remove the useless columns"
   ]
  },
  {
   "cell_type": "code",
   "execution_count": 12,
   "metadata": {
    "collapsed": false
   },
   "outputs": [
    {
     "name": "stdout",
     "output_type": "stream",
     "text": [
      "   id                                          question1  \\\n",
      "0   0  What is the step by step guide to invest in sh...   \n",
      "1   1  What is the story of Kohinoor (Koh-i-Noor) Dia...   \n",
      "2   2  How can I increase the speed of my internet co...   \n",
      "3   3  Why am I mentally very lonely? How can I solve...   \n",
      "4   4  Which one dissolve in water quikly sugar, salt...   \n",
      "\n",
      "                                           question2  is_duplicate  \n",
      "0  What is the step by step guide to invest in sh...             0  \n",
      "1  What would happen if the Indian government sto...             0  \n",
      "2  How can Internet speed be increased by hacking...             0  \n",
      "3  Find the remainder when [math]23^{24}[/math] i...             0  \n",
      "4            Which fish would survive in salt water?             0  \n"
     ]
    }
   ],
   "source": [
    "### The columns qid1 and qid2 can be removed\n",
    "df.drop(['qid1', 'qid2'], axis=1, inplace=True)\n",
    "\n",
    "print(df.head()) # check the removal"
   ]
  },
  {
   "cell_type": "markdown",
   "metadata": {},
   "source": [
    "## EDA"
   ]
  },
  {
   "cell_type": "markdown",
   "metadata": {
    "collapsed": true
   },
   "source": [
    "#### The differences of length of each duplicate article"
   ]
  },
  {
   "cell_type": "code",
   "execution_count": null,
   "metadata": {
    "collapsed": false
   },
   "outputs": [
    {
     "name": "stdout",
     "output_type": "stream",
     "text": [
      "What is the step by step guide to invest in share market in india?\n",
      "What is the step by step guide to invest in share market?\n"
     ]
    }
   ],
   "source": [
    "### Counstruct the tokenized object for each article \n",
    "\n",
    "print(df['question1'][0])\n",
    "print(df['question2'][0])\n",
    "\n",
    "from nltk.tokenize import word_tokenize\n",
    "\n",
    "df['q1_token'] = df['question1'].apply(lambda x: word_tokenize(x))\n",
    "df['q2_token'] = df['question2'].apply(lambda x: word_tokenize(x))\n",
    "\n",
    "print(df['q1_token'][0])\n",
    "print(df['q2_token'][0])"
   ]
  }
 ],
 "metadata": {
  "anaconda-cloud": {},
  "kernelspec": {
   "display_name": "Python 3",
   "language": "python",
   "name": "python3"
  },
  "language_info": {
   "codemirror_mode": {
    "name": "ipython",
    "version": 3
   },
   "file_extension": ".py",
   "mimetype": "text/x-python",
   "name": "python",
   "nbconvert_exporter": "python",
   "pygments_lexer": "ipython3",
   "version": "3.5.2"
  }
 },
 "nbformat": 4,
 "nbformat_minor": 2
}
