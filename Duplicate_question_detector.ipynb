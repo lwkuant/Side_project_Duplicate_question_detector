{
 "cells": [
  {
   "cell_type": "markdown",
   "metadata": {},
   "source": [
    "## Introduction"
   ]
  },
  {
   "cell_type": "code",
   "execution_count": null,
   "metadata": {
    "collapsed": true
   },
   "outputs": [],
   "source": []
  },
  {
   "cell_type": "code",
   "execution_count": null,
   "metadata": {
    "collapsed": true
   },
   "outputs": [],
   "source": []
  },
  {
   "cell_type": "code",
   "execution_count": null,
   "metadata": {
    "collapsed": true
   },
   "outputs": [],
   "source": []
  },
  {
   "cell_type": "markdown",
   "metadata": {},
   "source": [
    "## Setup"
   ]
  },
  {
   "cell_type": "code",
   "execution_count": 16,
   "metadata": {
    "collapsed": false
   },
   "outputs": [],
   "source": [
    "### Load the required packages\n",
    "\n",
    "import pandas as pd \n",
    "import numpy as np\n",
    "import scipy as sp\n",
    "import matplotlib.pyplot as plt\n",
    "%matplotlib inline \n",
    "import seaborn as sns\n",
    "\n",
    "seed = 100"
   ]
  },
  {
   "cell_type": "code",
   "execution_count": 17,
   "metadata": {
    "collapsed": true
   },
   "outputs": [],
   "source": [
    "### Load the dataset \n",
    "df = pd.read_csv('D:/Dataset/Side_project_Duplicate_question_detector/questions.csv', encoding='utf-8')"
   ]
  },
  {
   "cell_type": "markdown",
   "metadata": {},
   "source": [
    "#### Overview of the dataset"
   ]
  },
  {
   "cell_type": "code",
   "execution_count": 18,
   "metadata": {
    "collapsed": false
   },
   "outputs": [
    {
     "name": "stdout",
     "output_type": "stream",
     "text": [
      "Shape:\n",
      "(404351, 6)\n",
      "\n",
      "Some examples:\n",
      "   id  qid1  qid2                                          question1  \\\n",
      "0   0     1     2  What is the step by step guide to invest in sh...   \n",
      "1   1     3     4  What is the story of Kohinoor (Koh-i-Noor) Dia...   \n",
      "2   2     5     6  How can I increase the speed of my internet co...   \n",
      "3   3     7     8  Why am I mentally very lonely? How can I solve...   \n",
      "4   4     9    10  Which one dissolve in water quikly sugar, salt...   \n",
      "\n",
      "                                           question2  is_duplicate  \n",
      "0  What is the step by step guide to invest in sh...             0  \n",
      "1  What would happen if the Indian government sto...             0  \n",
      "2  How can Internet speed be increased by hacking...             0  \n",
      "3  Find the remainder when [math]23^{24}[/math] i...             0  \n",
      "4            Which fish would survive in salt water?             0  \n",
      "\n",
      "Information:\n",
      "<class 'pandas.core.frame.DataFrame'>\n",
      "RangeIndex: 404351 entries, 0 to 404350\n",
      "Data columns (total 6 columns):\n",
      "id              404351 non-null int64\n",
      "qid1            404351 non-null int64\n",
      "qid2            404351 non-null int64\n",
      "question1       404351 non-null object\n",
      "question2       404349 non-null object\n",
      "is_duplicate    404351 non-null int64\n",
      "dtypes: int64(4), object(2)\n",
      "memory usage: 18.5+ MB\n",
      "None\n",
      "\n",
      "Any NAs?\n",
      "id              0\n",
      "qid1            0\n",
      "qid2            0\n",
      "question1       0\n",
      "question2       2\n",
      "is_duplicate    0\n",
      "dtype: int64\n"
     ]
    }
   ],
   "source": [
    "print('Shape:')\n",
    "print(df.shape)\n",
    "\n",
    "print('\\nSome examples:')\n",
    "print(df.head())\n",
    "\n",
    "print('\\nInformation:')\n",
    "print(df.info())\n",
    "\n",
    "print('\\nAny NAs?')\n",
    "print(np.sum(df.isnull()))"
   ]
  },
  {
   "cell_type": "markdown",
   "metadata": {},
   "source": [
    "There are only two NAs in this dataset, we can consider removing them since they account for very little part in this dataset."
   ]
  },
  {
   "cell_type": "code",
   "execution_count": 19,
   "metadata": {
    "collapsed": false
   },
   "outputs": [
    {
     "name": "stdout",
     "output_type": "stream",
     "text": [
      "Distribution:\n",
      "0    255045\n",
      "1    149306\n",
      "Name: is_duplicate, dtype: int64\n",
      "\n",
      "Distribution in percentage:\n",
      "0    63.07515\n",
      "1    36.92485\n",
      "Name: is_duplicate, dtype: float64\n"
     ]
    }
   ],
   "source": [
    "### Target variable \n",
    "\n",
    "print('Distribution:')\n",
    "print(df['is_duplicate'].value_counts())\n",
    "\n",
    "print('\\nDistribution in percentage:')\n",
    "print(df['is_duplicate'].value_counts().apply(lambda x: x/len(df)*100))"
   ]
  },
  {
   "cell_type": "markdown",
   "metadata": {},
   "source": [
    "Since the distribution of the target variable's classes are not so unbalanced, we can just move on"
   ]
  },
  {
   "cell_type": "markdown",
   "metadata": {},
   "source": [
    "#### Remove the useless columns"
   ]
  },
  {
   "cell_type": "code",
   "execution_count": 20,
   "metadata": {
    "collapsed": false
   },
   "outputs": [
    {
     "name": "stdout",
     "output_type": "stream",
     "text": [
      "   id                                          question1  \\\n",
      "0   0  What is the step by step guide to invest in sh...   \n",
      "1   1  What is the story of Kohinoor (Koh-i-Noor) Dia...   \n",
      "2   2  How can I increase the speed of my internet co...   \n",
      "3   3  Why am I mentally very lonely? How can I solve...   \n",
      "4   4  Which one dissolve in water quikly sugar, salt...   \n",
      "\n",
      "                                           question2  is_duplicate  \n",
      "0  What is the step by step guide to invest in sh...             0  \n",
      "1  What would happen if the Indian government sto...             0  \n",
      "2  How can Internet speed be increased by hacking...             0  \n",
      "3  Find the remainder when [math]23^{24}[/math] i...             0  \n",
      "4            Which fish would survive in salt water?             0  \n"
     ]
    }
   ],
   "source": [
    "### The columns qid1 and qid2 can be removed\n",
    "df.drop(['qid1', 'qid2'], axis=1, inplace=True)\n",
    "\n",
    "print(df.head()) # check the removal"
   ]
  },
  {
   "cell_type": "markdown",
   "metadata": {},
   "source": [
    "#### Remove the rows with NAs"
   ]
  },
  {
   "cell_type": "code",
   "execution_count": 21,
   "metadata": {
    "collapsed": false
   },
   "outputs": [
    {
     "name": "stdout",
     "output_type": "stream",
     "text": [
      "id              0\n",
      "question1       0\n",
      "question2       0\n",
      "is_duplicate    0\n",
      "dtype: int64\n",
      "<class 'pandas.core.frame.DataFrame'>\n",
      "Int64Index: 404349 entries, 0 to 404350\n",
      "Data columns (total 4 columns):\n",
      "id              404349 non-null int64\n",
      "question1       404349 non-null object\n",
      "question2       404349 non-null object\n",
      "is_duplicate    404349 non-null int64\n",
      "dtypes: int64(2), object(2)\n",
      "memory usage: 15.4+ MB\n",
      "None\n"
     ]
    }
   ],
   "source": [
    "df.dropna(how='any', inplace=True)\n",
    "\n",
    "print(np.sum(df.isnull()))\n",
    "print(df.info())"
   ]
  },
  {
   "cell_type": "markdown",
   "metadata": {},
   "source": [
    "#### Since we aim to find ways to detect the duplicate articles, we have to first split out part of the dataset for testing later"
   ]
  },
  {
   "cell_type": "code",
   "execution_count": 26,
   "metadata": {
    "collapsed": false
   },
   "outputs": [
    {
     "name": "stdout",
     "output_type": "stream",
     "text": [
      "0    0.630749\n",
      "1    0.369251\n",
      "Name: is_duplicate, dtype: float64\n",
      "0    0.630753\n",
      "1    0.369247\n",
      "Name: is_duplicate, dtype: float64\n",
      "(323479, 4)\n",
      "(80870, 4)\n"
     ]
    }
   ],
   "source": [
    "from sklearn.model_selection import train_test_split\n",
    "\n",
    "df_tr, df_test = train_test_split(df, test_size=0.2, stratify=df['is_duplicate'], random_state=seed)\n",
    "\n",
    "# check the split outcome \n",
    "print(df_tr['is_duplicate'].value_counts()/len(df_tr))\n",
    "print(df_test['is_duplicate'].value_counts()/len(df_test))\n",
    "print(df_tr.shape)\n",
    "print(df_test.shape)\n",
    "\n",
    "df_tr.index = range(len(df_tr))\n",
    "df_test.index = range(len(df_test))"
   ]
  },
  {
   "cell_type": "markdown",
   "metadata": {},
   "source": [
    "## EDA"
   ]
  },
  {
   "cell_type": "markdown",
   "metadata": {
    "collapsed": true
   },
   "source": [
    "#### The differences of length of each duplicate article"
   ]
  },
  {
   "cell_type": "code",
   "execution_count": 29,
   "metadata": {
    "collapsed": false
   },
   "outputs": [
    {
     "name": "stdout",
     "output_type": "stream",
     "text": [
      "How do I get a passport if I live at two address?\n",
      "Passport: I have changed my present address 4 months ago and am in need of a passport?\n"
     ]
    },
    {
     "name": "stderr",
     "output_type": "stream",
     "text": [
      "C:\\Users\\user\\Anaconda3\\lib\\site-packages\\ipykernel\\__main__.py:8: SettingWithCopyWarning: \n",
      "A value is trying to be set on a copy of a slice from a DataFrame.\n",
      "Try using .loc[row_indexer,col_indexer] = value instead\n",
      "\n",
      "See the caveats in the documentation: http://pandas.pydata.org/pandas-docs/stable/indexing.html#indexing-view-versus-copy\n"
     ]
    },
    {
     "name": "stdout",
     "output_type": "stream",
     "text": [
      "['How', 'do', 'I', 'get', 'a', 'passport', 'if', 'I', 'live', 'at', 'two', 'address', '?']\n",
      "['Passport', ':', 'I', 'have', 'changed', 'my', 'present', 'address', '4', 'months', 'ago', 'and', 'am', 'in', 'need', 'of', 'a', 'passport', '?']\n"
     ]
    },
    {
     "name": "stderr",
     "output_type": "stream",
     "text": [
      "C:\\Users\\user\\Anaconda3\\lib\\site-packages\\ipykernel\\__main__.py:9: SettingWithCopyWarning: \n",
      "A value is trying to be set on a copy of a slice from a DataFrame.\n",
      "Try using .loc[row_indexer,col_indexer] = value instead\n",
      "\n",
      "See the caveats in the documentation: http://pandas.pydata.org/pandas-docs/stable/indexing.html#indexing-view-versus-copy\n"
     ]
    }
   ],
   "source": [
    "### Counstruct the tokenized object for each article \n",
    "\n",
    "print(df_tr['question1'][0])\n",
    "print(df_tr['question2'][0])\n",
    "\n",
    "from nltk.tokenize import word_tokenize\n",
    "\n",
    "df_tr['q1_token'] = df_tr['question1'].apply(lambda x: word_tokenize(x))\n",
    "df_tr['q2_token'] = df_tr['question2'].apply(lambda x: word_tokenize(x))\n",
    "\n",
    "print(df_tr['q1_token'][0])\n",
    "print(df_tr['q2_token'][0])"
   ]
  },
  {
   "cell_type": "code",
   "execution_count": 42,
   "metadata": {
    "collapsed": false
   },
   "outputs": [
    {
     "name": "stdout",
     "output_type": "stream",
     "text": [
      "0    6\n",
      "1    5\n",
      "2    2\n",
      "3    1\n",
      "4    1\n",
      "Name: len_diff, dtype: int64\n"
     ]
    },
    {
     "name": "stderr",
     "output_type": "stream",
     "text": [
      "C:\\Users\\user\\Anaconda3\\lib\\site-packages\\ipykernel\\__main__.py:3: SettingWithCopyWarning: \n",
      "A value is trying to be set on a copy of a slice from a DataFrame.\n",
      "Try using .loc[row_indexer,col_indexer] = value instead\n",
      "\n",
      "See the caveats in the documentation: http://pandas.pydata.org/pandas-docs/stable/indexing.html#indexing-view-versus-copy\n",
      "  app.launch_new_instance()\n"
     ]
    }
   ],
   "source": [
    "### create the column for calculating differences of length\n",
    "\n",
    "df_tr['len_diff'] = df_tr.ix[:, ['q1_token', 'q2_token']].apply(lambda x: np.abs(len(x[0]) - len(x[1])), axis=1)\n",
    "\n",
    "print(df_tr['len_diff'].head()) # checking"
   ]
  },
  {
   "cell_type": "code",
   "execution_count": 90,
   "metadata": {
    "collapsed": false
   },
   "outputs": [
    {
     "name": "stderr",
     "output_type": "stream",
     "text": [
      "C:\\Users\\user\\Anaconda3\\lib\\site-packages\\statsmodels\\nonparametric\\kdetools.py:20: VisibleDeprecationWarning: using a non-integer number instead of an integer will result in an error in the future\n",
      "  y = X[:m/2+1] + np.r_[0,X[m/2+1:],0]*1j\n"
     ]
    },
    {
     "data": {
      "image/png": "[encoded data removed]",
      "text/plain": [
       "<matplotlib.figure.Figure at 0x28840a49438>"
      ]
     },
     "metadata": {},
     "output_type": "display_data"
    }
   ],
   "source": [
    "### Visualize the differences of length for each class\n",
    "\n",
    "color_list = ['#FF3333', '#006400']\n",
    "\n",
    "\n",
    "fig = plt.figure(figsize=[12, 8])\n",
    "plt.suptitle('Histogram for Difference of Length by Class', fontsize=15, y=0.94)\n",
    "for ind, col in enumerate(np.unique(df['is_duplicate']), start=1):\n",
    "    axes = fig.add_subplot(1, 2, ind)\n",
    "    sns.distplot(df_tr['len_diff'][df_tr['is_duplicate'].values == col].values,\n",
    "                kde_kws={'alpha':1, 'label': str(col), 'lw':2}, \n",
    "                color = color_list[ind-1],\n",
    "                hist_kws={'alpha':0.6})\n",
    "    axes.set_xlabel('Difference of length')\n",
    "    axes.legend()"
   ]
  },
  {
   "cell_type": "markdown",
   "metadata": {},
   "source": [
    "From the two graphs above, I find that the differences in length of duplicate articles are less, which are larger than 50; however those in the non-duplicate group are more disperse and can be very large. That finding makes snese."
   ]
  }
 ],
 "metadata": {
  "anaconda-cloud": {},
  "kernelspec": {
   "display_name": "Python 3",
   "language": "python",
   "name": "python3"
  },
  "language_info": {
   "codemirror_mode": {
    "name": "ipython",
    "version": 3
   },
   "file_extension": ".py",
   "mimetype": "text/x-python",
   "name": "python",
   "nbconvert_exporter": "python",
   "pygments_lexer": "ipython3",
   "version": "3.5.2"
  }
 },
 "nbformat": 4,
 "nbformat_minor": 2
}
